{
  "metadata": {
    "language_info": {
      "codemirror_mode": {
        "name": "python",
        "version": 3
      },
      "file_extension": ".py",
      "mimetype": "text/x-python",
      "name": "python",
      "nbconvert_exporter": "python",
      "pygments_lexer": "ipython3",
      "version": "3.8"
    },
    "kernelspec": {
      "name": "python",
      "display_name": "Python (Pyodide)",
      "language": "python"
    },
    "colab": {
      "provenance": []
    }
  },
  "nbformat_minor": 0,
  "nbformat": 4,
  "cells": [
    {
      "cell_type": "markdown",
      "source": [
        "**Q1**. for a matrix multiplication between a (n, k) and (k, m) matrix, for each position in the matrix we will have k columns in a specific row of matrix1 multiplied by k rows of specific column of matrix2. these multiplied quantities shall be k in quatity thus will be added k-1 times. Thus, for each position there are 'k' multiplications and 'k-1' additions.\n",
        "For the entire matrix k*n*m multiplication operations would have to be performed corresponding to the size of the resulting matrix. similarly (k-1)*n*m addition operations will be performed."
      ],
      "metadata": {
        "id": "ENX3gRiZC1M4"
      }
    },
    {
      "cell_type": "markdown",
      "source": [
        "# **Q2.**"
      ],
      "metadata": {
        "id": "8Km9sRGOC1M7"
      }
    },
    {
      "cell_type": "code",
      "source": [
        "%%timeit   #using the list of lists approach\n",
        "\n",
        "A = [[12, 7, 3],[4, 5, 6],[7, 8, 9]]\n",
        " \n",
        "B = [[5, 8, 1, 2],[6, 7, 3, 0],[4, 5, 9, 1]]\n",
        "     \n",
        "result = [[0, 0, 0, 0],[0, 0, 0, 0], [0, 0, 0, 0]]\n",
        " \n",
        "for i in range(len(A)):\n",
        "     for j in range(len(B[0])): \n",
        "        for k in range(len(B)):\n",
        "            result[i][j] += A[i][k] * B[k][j]\n",
        "\n",
        "# for r in result:\n",
        "#     print(r)\n",
        "\n"
      ],
      "metadata": {
        "trusted": true,
        "colab": {
          "base_uri": "https://localhost:8080/"
        },
        "id": "ggx_An36C1M8",
        "outputId": "d5847462-cd82-428e-b27e-c92835c6507e"
      },
      "execution_count": 56,
      "outputs": [
        {
          "output_type": "stream",
          "name": "stdout",
          "text": [
            "15.4 µs ± 2.56 µs per loop (mean ± std. dev. of 7 runs, 10000 loops each)\n"
          ]
        }
      ]
    },
    {
      "cell_type": "code",
      "source": [
        "%%timeit  #same approach for a larger matrix size\n",
        "B = [[12, 7, 3],[4, 5, 6],[7, 8, 9], [5, 8, 2],[6, 3, 0],[5, 9, 1],[12, 7, 3],[4, 5, 6],[7, 8, 9]]\n",
        " \n",
        "A = [[5, 8, 2, 6, 3, 0,5, 9, 1],[12, 7, 3,4, 5, 6,7, 8, 9], [5, 8, 2,6, 3, 0,5, 9, 1]]\n",
        "     \n",
        "result = [[0, 0, 0],[0, 0, 0], [0, 0, 0]]\n",
        " \n",
        "for i in range(len(A)):\n",
        "     for j in range(len(B[0])): \n",
        "        for k in range(len(B)):\n",
        "            result[i][j] += A[i][k] * B[k][j]\n",
        "\n",
        "# for r in result:\n",
        "#     print(r)"
      ],
      "metadata": {
        "trusted": true,
        "colab": {
          "base_uri": "https://localhost:8080/"
        },
        "id": "gGunn9dmC1M-",
        "outputId": "0c7891a1-6d8c-4038-8a80-11e4f7e0ff47"
      },
      "execution_count": 57,
      "outputs": [
        {
          "output_type": "stream",
          "name": "stdout",
          "text": [
            "31.2 µs ± 10.8 µs per loop (mean ± std. dev. of 7 runs, 10000 loops each)\n"
          ]
        }
      ]
    },
    {
      "cell_type": "code",
      "source": [
        "%%timeit #using numPy\n",
        "\n",
        "import numpy as np\n",
        "A = [[12, 7, 3],[4, 5, 6],[7, 8, 9]]\n",
        " \n",
        "B = [[5, 8, 1, 2],[6, 7, 3, 0],[4, 5, 9, 1]]\n",
        "     \n",
        "result = [[0, 0, 0, 0],[0, 0, 0, 0], [0, 0, 0, 0]]\n",
        " \n",
        "result = np.dot(A,B)\n",
        " \n",
        "# for r in result:\n",
        "#     print(r)"
      ],
      "metadata": {
        "trusted": true,
        "colab": {
          "base_uri": "https://localhost:8080/"
        },
        "id": "aJDe8LbtC1M_",
        "outputId": "3aedec80-c519-4286-825a-73329f5decc7"
      },
      "execution_count": 85,
      "outputs": [
        {
          "output_type": "stream",
          "name": "stdout",
          "text": [
            "27.5 µs ± 5.58 µs per loop (mean ± std. dev. of 7 runs, 100000 loops each)\n"
          ]
        }
      ]
    },
    {
      "cell_type": "code",
      "source": [
        "%%timeit #same code for a larger matrix size\n",
        "\n",
        "import numpy as np\n",
        "B = [[12, 7, 3],[4, 5, 6],[7, 8, 9], [5, 8, 2],[6, 3, 0],[5, 9, 1],[12, 7, 3],[4, 5, 6],[7, 8, 9]]\n",
        " \n",
        "A = [[5, 8, 2, 6, 3, 0,5, 9, 1],[12, 7, 3,4, 5, 6,7, 8, 9], [5, 8, 2,6, 3, 0,5, 9, 1]]\n",
        "     \n",
        "result = [[0, 0, 0],[0, 0, 0], [0, 0, 0]]\n",
        " \n",
        "result = np.dot(A,B)\n",
        " \n",
        "# for r in result:\n",
        "#     print(r)"
      ],
      "metadata": {
        "trusted": true,
        "colab": {
          "base_uri": "https://localhost:8080/"
        },
        "id": "jmvylJGVC1NA",
        "outputId": "bf09305c-b810-4c76-a072-9e4e85ee4c07"
      },
      "execution_count": 59,
      "outputs": [
        {
          "output_type": "stream",
          "name": "stdout",
          "text": [
            "45.4 µs ± 8.3 µs per loop (mean ± std. dev. of 7 runs, 10000 loops each)\n"
          ]
        }
      ]
    },
    {
      "cell_type": "markdown",
      "source": [
        "As we findout:\n",
        "\n",
        "for a relatively smaller matrix:\n",
        "\n",
        "time for list of lists approach- 29.7 µs ± 482 ns per loop (mean ± std. dev. of 7 runs, 10,000 loops each)\n",
        "\n",
        "time for numPy- 14.3 µs ± 337 ns per loop (mean ± std. dev. of 7 runs, 100,000 loops each)\n",
        "\n",
        "Here, numPy runs for 10,000 loops yet the the time is half than that in list of lists approach, even after taking into consideration the std deviation.\n",
        "\n",
        "for a relatively larger matrix size:\n",
        "\n",
        "time for list of lists approach- 49.4 µs ± 638 ns per loop (mean ± std. dev. of 7 runs, 10,000 loops each)\n",
        "\n",
        "time for numPy- 24.2 µs ± 453 ns per loop (mean ± std. dev. of 7 runs, 10,000 loops each)\n",
        "\n",
        "here, the time complexity of numPy has increased considerably but is still half of that of the other approach for 7 runs and 10,000 loops.\n"
      ],
      "metadata": {
        "id": "9g5cy6wcC1NB"
      }
    },
    {
      "cell_type": "markdown",
      "source": [
        "Here we see that the NumPy approach is faster than List of Lists approach, the reason for which can be:  \n",
        "\n",
        "A list stores data in non-contagious memory locations unlike numpy arrays where data is stored in contagious blocks of memory thus, increasing the efficiency of the operations.\n",
        "\n",
        "NumPy operations are implemented in C,C++ which is a faster programming language having very little execution time than Python, thus making them faster manipulations compared to Python lists.\n",
        "\n",
        "NumPy uses less memory than Python lists as it stores data in a more compact form cutting short on the storing of metadata. This factor shall also prove crucial in affecting the speed of the operations for large data.\n",
        "\n",
        "The NumPy library processes the fragments on which the operation is applied parallely unlike lists which works for each element one by one."
      ],
      "metadata": {
        "id": "DC5B1DKzC1NB"
      }
    },
    {
      "cell_type": "markdown",
      "source": [
        "# **Q3.**"
      ],
      "metadata": {
        "id": "FGHb8noSC1NC"
      }
    },
    {
      "cell_type": "code",
      "source": [
        "#finding median by traversing the array to sort the array then find the median according to whether the length of the array is even or odd\n",
        "a=[7,5,18,9,1,17]\n",
        "\n",
        "for i in range(len(a)):\n",
        "    min_i=i\n",
        "    for j in range(i+1,len(a)):\n",
        "        if a[min_i]>a[j]:\n",
        "            min_i=j\n",
        "    a[i], a[min_i]=a[min_i], a[i] #swapping as we want minimum element in the begining\n",
        "\n",
        "# Array has odd length, return element at index (n-1)//2\n",
        "if (len(a)%2==1):\n",
        "    print (a[(len(a)-1)//2])\n",
        "\n",
        "# Array has even length, return average of elements at indices (n-1)//2 and n//2\n",
        "else:\n",
        "    print ((a[(len(a)-1)//2] + a[len(a)//2]) / 2)\n",
        "    \n",
        "\n",
        "# time complexity- order [len(array)]^2 or N^2        \n",
        "    "
      ],
      "metadata": {
        "trusted": true,
        "colab": {
          "base_uri": "https://localhost:8080/"
        },
        "id": "rKJc9ROxC1ND",
        "outputId": "7935f522-94f9-4fb0-bd14-5e5e4136756e"
      },
      "execution_count": 60,
      "outputs": [
        {
          "output_type": "stream",
          "name": "stdout",
          "text": [
            "8.0\n"
          ]
        }
      ]
    },
    {
      "cell_type": "code",
      "source": [
        "%%time\n",
        "#finding median using a better approach than the previous one, here we are using the 'sorted' command which sorts the array in n(log(n)) order.\n",
        "\n",
        "def find_median(arr):\n",
        "    arr = sorted(arr)\n",
        "    n = len(arr)\n",
        "    if n % 2 == 1:\n",
        "        # Array has odd length, return element at index (n-1)//2\n",
        "        return arr[(n-1)//2]\n",
        "    else:\n",
        "        # Array has even length, return average of elements at indices (n-1)//2 and n//2\n",
        "        return (arr[(n-1)//2] + arr[n//2]) / 2\n",
        "\n",
        "a = [7,5,18,9,1,17,7,5,18,9,1,17,7,5,18,9,1,17]\n",
        "(find_median(a))\n",
        "\n",
        "#The time complexity of this implementation is O(n*log(n)),\n",
        "#because the sorted function has a time complexity of O(n log n)."
      ],
      "metadata": {
        "trusted": true,
        "colab": {
          "base_uri": "https://localhost:8080/"
        },
        "id": "hG28daZPC1ND",
        "outputId": "472aa217-7e09-4469-d452-0108813d0431"
      },
      "execution_count": 61,
      "outputs": [
        {
          "output_type": "stream",
          "name": "stdout",
          "text": [
            "CPU times: user 39 µs, sys: 0 ns, total: 39 µs\n",
            "Wall time: 43.6 µs\n"
          ]
        },
        {
          "output_type": "execute_result",
          "data": {
            "text/plain": [
              "8.0"
            ]
          },
          "metadata": {},
          "execution_count": 61
        }
      ]
    },
    {
      "cell_type": "code",
      "source": [
        "%%time\n",
        "##finding median using numPy \n",
        "import numpy\n",
        "a = [7,5,18,9,1,17,7,5,18,9,1,17,7,5,18,9,1,17]\n",
        "(numpy.median(a))"
      ],
      "metadata": {
        "trusted": true,
        "colab": {
          "base_uri": "https://localhost:8080/"
        },
        "id": "PtC9CgVdC1NE",
        "outputId": "333f77b0-c02d-4315-a785-0a514ae942a4"
      },
      "execution_count": 62,
      "outputs": [
        {
          "output_type": "stream",
          "name": "stdout",
          "text": [
            "CPU times: user 307 µs, sys: 16 µs, total: 323 µs\n",
            "Wall time: 335 µs\n"
          ]
        },
        {
          "output_type": "execute_result",
          "data": {
            "text/plain": [
              "8.0"
            ]
          },
          "metadata": {},
          "execution_count": 62
        }
      ]
    },
    {
      "cell_type": "markdown",
      "source": [
        "here, we see that the time req by numpy.median is more than that of the previous approach.\n",
        "For a very large length of array numpy.median will prove to be more time efficient."
      ],
      "metadata": {
        "id": "B0uG87obR31O"
      }
    },
    {
      "cell_type": "markdown",
      "source": [
        "## **Q4.**"
      ],
      "metadata": {
        "id": "INLoXXBLC1NE"
      }
    },
    {
      "cell_type": "markdown",
      "source": [
        "The gradient of a function is a vector of its partial derivatives with respect to each variable. The gradient of the function \n",
        "(x^2)y + (y^3)(sin(x)) with respect to x and y is:\n",
        "\n",
        "[2xy + (y^3)cos(x), x^2 + 3(y^2)*sin(x)]\n",
        "\n",
        "The first element of the gradient is the partial derivative of the function with respect to x, and the second element is the \n",
        "partial derivative with respect to y."
      ],
      "metadata": {
        "id": "qqvxiMkyC1NE"
      }
    },
    {
      "cell_type": "markdown",
      "source": [
        "## **Q5**."
      ],
      "metadata": {
        "id": "W0JK6ol8C1NF"
      }
    },
    {
      "cell_type": "code",
      "source": [
        "pip install jax\n"
      ],
      "metadata": {
        "trusted": true,
        "colab": {
          "base_uri": "https://localhost:8080/"
        },
        "id": "vaAgEkqHC1NF",
        "outputId": "926dd06e-0b37-413c-8fae-075838382461"
      },
      "execution_count": 63,
      "outputs": [
        {
          "output_type": "stream",
          "name": "stdout",
          "text": [
            "Looking in indexes: https://pypi.org/simple, https://us-python.pkg.dev/colab-wheels/public/simple/\n",
            "Requirement already satisfied: jax in /usr/local/lib/python3.8/dist-packages (0.3.25)\n",
            "Requirement already satisfied: numpy>=1.20 in /usr/local/lib/python3.8/dist-packages (from jax) (1.21.6)\n",
            "Requirement already satisfied: typing-extensions in /usr/local/lib/python3.8/dist-packages (from jax) (4.4.0)\n",
            "Requirement already satisfied: scipy>=1.5 in /usr/local/lib/python3.8/dist-packages (from jax) (1.7.3)\n",
            "Requirement already satisfied: opt-einsum in /usr/local/lib/python3.8/dist-packages (from jax) (3.3.0)\n"
          ]
        }
      ]
    },
    {
      "cell_type": "code",
      "source": [
        "import jax\n",
        "import jax.numpy as jnp\n",
        "from jax import grad\n",
        "\n",
        "def f(x, y):\n",
        "  return (x**2)*y + (y**3)*jnp.sin(x)\n",
        "\n",
        "def numerical(x,y):\n",
        "  return ((2*x*y)+(y**3)*jnp.cos(x) , (x**2)+3*(y**2)*jnp.sin(x))\n",
        "\n",
        "df_dx=jax.grad(f,argnums=(0,1))(1.0,2.0)\n",
        "#df_dy=grad(f,argnums=1)\n",
        "\n",
        "print (df_dx)\n",
        "print (numerical(1.0,2.0))"
      ],
      "metadata": {
        "trusted": true,
        "colab": {
          "base_uri": "https://localhost:8080/"
        },
        "id": "hcXuLAfhC1NF",
        "outputId": "04fa6ffe-ab69-4a10-eeec-97aee6367fc6"
      },
      "execution_count": 64,
      "outputs": [
        {
          "output_type": "stream",
          "name": "stdout",
          "text": [
            "(DeviceArray(8.322418, dtype=float32, weak_type=True), DeviceArray(11.0976515, dtype=float32, weak_type=True))\n",
            "(DeviceArray(8.322418, dtype=float32, weak_type=True), DeviceArray(11.0976515, dtype=float32, weak_type=True))\n"
          ]
        }
      ]
    },
    {
      "cell_type": "markdown",
      "source": [
        "for x=1 and y=2 we receive the same answer for gradient, thus verifying the JAX method"
      ],
      "metadata": {
        "id": "glnG5y-GTxxT"
      }
    },
    {
      "cell_type": "markdown",
      "source": [
        "# **Q6.**"
      ],
      "metadata": {
        "id": "pJo19Ov3C1NG"
      }
    },
    {
      "cell_type": "code",
      "source": [
        "import sympy\n",
        "\n",
        "x, y = sympy.symbols('x y')\n",
        "func = (x**2)*y + (y**3)*sympy.sin(x)\n",
        "\n",
        "gradient = sympy.Matrix([func]).jacobian([x, y])\n",
        "print(gradient)\n",
        "\n"
      ],
      "metadata": {
        "trusted": true,
        "colab": {
          "base_uri": "https://localhost:8080/"
        },
        "id": "JKTNmtN6C1NG",
        "outputId": "05b2be73-72f6-46a6-f6f8-c9f5b809ebda"
      },
      "execution_count": 65,
      "outputs": [
        {
          "output_type": "stream",
          "name": "stdout",
          "text": [
            "Matrix([[2*x*y + y**3*cos(x), x**2 + 3*y**2*sin(x)]])\n"
          ]
        }
      ]
    },
    {
      "cell_type": "markdown",
      "source": [
        "this is the same ans as we had calculated through the analytical approach\n"
      ],
      "metadata": {
        "id": "OPlmGsL0TFjG"
      }
    },
    {
      "cell_type": "markdown",
      "source": [
        "# **Q7.**"
      ],
      "metadata": {
        "id": "TeTKm3x-C1NG"
      }
    },
    {
      "cell_type": "code",
      "source": [
        "students = {\n",
        "    2022: {\n",
        "        'Branch 1': {\n",
        "            1: {\n",
        "                'Roll Number': 1,\n",
        "                'Name': 'N',\n",
        "                'Marks': {\n",
        "                    'Maths': 100,\n",
        "                    'English': 70\n",
        "                }\n",
        "            }\n",
        "        },\n",
        "        'Branch 2': {},\n",
        "    },\n",
        "    2023: {\n",
        "        'Branch 1': {},\n",
        "        'Branch 2': {},\n",
        "    },\n",
        "    2024: {\n",
        "        'Branch 1': {},\n",
        "        'Branch 2': {},\n",
        "    },\n",
        "    2025: {\n",
        "        'Branch 1': {},\n",
        "        'Branch 2': {},\n",
        "    }\n",
        "}\n",
        "print (students)"
      ],
      "metadata": {
        "trusted": true,
        "colab": {
          "base_uri": "https://localhost:8080/"
        },
        "id": "smlq4NKNC1NG",
        "outputId": "4741b5d1-99a3-4d8d-ed77-bcde41c026d8"
      },
      "execution_count": 66,
      "outputs": [
        {
          "output_type": "stream",
          "name": "stdout",
          "text": [
            "{2022: {'Branch 1': {1: {'Roll Number': 1, 'Name': 'N', 'Marks': {'Maths': 100, 'English': 70}}}, 'Branch 2': {}}, 2023: {'Branch 1': {}, 'Branch 2': {}}, 2024: {'Branch 1': {}, 'Branch 2': {}}, 2025: {'Branch 1': {}, 'Branch 2': {}}}\n"
          ]
        }
      ]
    },
    {
      "cell_type": "markdown",
      "source": [
        "# **Q8.**"
      ],
      "metadata": {
        "id": "I2JUHsIWC1NH"
      }
    },
    {
      "cell_type": "code",
      "source": [
        "class Student:\n",
        "    def __init__(self, roll_number, name, marks):\n",
        "        self.roll_number = roll_number\n",
        "        self.name = name\n",
        "        self.marks = marks\n",
        "\n",
        "class Branch:\n",
        "    def __init__(self, students):\n",
        "        self.students = students\n",
        "\n",
        "class Year:\n",
        "    def __init__(self, branches):\n",
        "        self.branches = branches\n",
        "\n",
        "class Database:\n",
        "    def __init__(self, years):\n",
        "        self.years = years\n",
        "\n",
        "# Create a database with four years\n",
        "database = Database([\n",
        "    Year([\n",
        "        Branch([\n",
        "            Student(1, 'N', {'Maths': 100, 'English': 70})\n",
        "        ]),\n",
        "        Branch([])\n",
        "    ]),\n",
        "    Year([\n",
        "        Branch([]),\n",
        "        Branch([])\n",
        "    ]),\n",
        "    Year([\n",
        "        Branch([]),\n",
        "        Branch([])\n",
        "    ]),\n",
        "    Year([\n",
        "        Branch([]),\n",
        "        Branch([])\n",
        "    ])\n",
        "])"
      ],
      "metadata": {
        "trusted": true,
        "id": "pYd_gLkaC1NH"
      },
      "execution_count": 67,
      "outputs": []
    },
    {
      "cell_type": "markdown",
      "source": [
        "# **Q9.**"
      ],
      "metadata": {
        "id": "Bi6zHfN5C1NH"
      }
    },
    {
      "cell_type": "code",
      "source": [
        "#1.\n",
        "import matplotlib.pyplot as plt\n",
        "import numpy as np\n",
        "\n",
        "# Create an array of x values from 0.5 to 100.0 with a step size of 0.5\n",
        "x = np.arange(0.5, 100.0, 0.5)\n",
        "# Calculate the y values using the function y = x^2\n",
        "y = x\n",
        "# Plot the function\n",
        "plt.plot(x, y, label='y=x')\n",
        "plt.legend()\n",
        "plt.show()"
      ],
      "metadata": {
        "trusted": true,
        "colab": {
          "base_uri": "https://localhost:8080/",
          "height": 265
        },
        "id": "IgWmyoizC1NH",
        "outputId": "ba56c27f-7453-4326-d13b-fbbcca49903c"
      },
      "execution_count": 68,
      "outputs": [
        {
          "output_type": "display_data",
          "data": {
            "text/plain": [
              "<Figure size 432x288 with 1 Axes>"
            ],
            "image/png": "[encoded data removed]"
          },
          "metadata": {
            "needs_background": "light"
          }
        }
      ]
    },
    {
      "cell_type": "code",
      "source": [
        "#2.\n",
        "\n",
        "x = np.arange(0.5, 100.0, 0.5)\n",
        "y=x**2\n",
        "plt.plot(x, y, label='y=x^2')\n",
        "plt.legend()\n",
        "plt.show()"
      ],
      "metadata": {
        "trusted": true,
        "colab": {
          "base_uri": "https://localhost:8080/",
          "height": 265
        },
        "id": "ww_OUNVyC1NI",
        "outputId": "6849c76e-f720-4d34-84ec-5d803ecb9438"
      },
      "execution_count": 69,
      "outputs": [
        {
          "output_type": "display_data",
          "data": {
            "text/plain": [
              "<Figure size 432x288 with 1 Axes>"
            ],
            "image/png": "[encoded data removed]"
          },
          "metadata": {
            "needs_background": "light"
          }
        }
      ]
    },
    {
      "cell_type": "code",
      "source": [
        "#3.\n",
        "x = np.arange(0.5, 100.0, 0.5)\n",
        "y = x**3/100\n",
        "plt.plot(x, y, label='y=x^3/100')\n",
        "plt.legend()\n",
        "plt.show()"
      ],
      "metadata": {
        "trusted": true,
        "colab": {
          "base_uri": "https://localhost:8080/",
          "height": 265
        },
        "id": "qk0wlwKmC1NI",
        "outputId": "5ac9a8df-f5ee-45cb-e07b-d0cca94f7d6c"
      },
      "execution_count": 70,
      "outputs": [
        {
          "output_type": "display_data",
          "data": {
            "text/plain": [
              "<Figure size 432x288 with 1 Axes>"
            ],
            "image/png": "[encoded data removed]"
          },
          "metadata": {
            "needs_background": "light"
          }
        }
      ]
    },
    {
      "cell_type": "code",
      "source": [
        "#4.\n",
        "x = np.arange(0.5, 100.0, 0.5)\n",
        "y = np.sin(x)\n",
        "plt.plot(x, y, label='y=sin(x)')\n",
        "plt.legend()\n",
        "plt.show()"
      ],
      "metadata": {
        "trusted": true,
        "colab": {
          "base_uri": "https://localhost:8080/",
          "height": 265
        },
        "id": "uftr2lYXC1NI",
        "outputId": "09475fdb-aae6-482a-f0c4-86d4d920eb25"
      },
      "execution_count": 71,
      "outputs": [
        {
          "output_type": "display_data",
          "data": {
            "text/plain": [
              "<Figure size 432x288 with 1 Axes>"
            ],
            "image/png": "[encoded data removed]"
          },
          "metadata": {
            "needs_background": "light"
          }
        }
      ]
    },
    {
      "cell_type": "code",
      "source": [
        "#5.\n",
        "x = np.arange(0.5, 100.0, 0.5)\n",
        "y = np.sin(x)/x\n",
        "plt.plot(x, y, label='y=sin(x)/x')\n",
        "plt.legend()\n",
        "plt.show()"
      ],
      "metadata": {
        "trusted": true,
        "colab": {
          "base_uri": "https://localhost:8080/",
          "height": 266
        },
        "id": "As0k5jHIC1NI",
        "outputId": "31e44c63-de9c-4431-c024-c7fba19e6681"
      },
      "execution_count": 72,
      "outputs": [
        {
          "output_type": "display_data",
          "data": {
            "text/plain": [
              "<Figure size 432x288 with 1 Axes>"
            ],
            "image/png": "[encoded data removed]"
          },
          "metadata": {
            "needs_background": "light"
          }
        }
      ]
    },
    {
      "cell_type": "code",
      "source": [
        "#6.\n",
        "x = np.arange(0.5, 100.0, 0.5)\n",
        "y = np.log(x)\n",
        "plt.plot(x, y, label='y=log(x)')\n",
        "plt.legend()\n",
        "plt.show()"
      ],
      "metadata": {
        "trusted": true,
        "colab": {
          "base_uri": "https://localhost:8080/",
          "height": 265
        },
        "id": "28tBanV_C1NJ",
        "outputId": "9b309233-3768-487c-c84d-193776f1dd20"
      },
      "execution_count": 73,
      "outputs": [
        {
          "output_type": "display_data",
          "data": {
            "text/plain": [
              "<Figure size 432x288 with 1 Axes>"
            ],
            "image/png": "[encoded data removed]"
          },
          "metadata": {
            "needs_background": "light"
          }
        }
      ]
    },
    {
      "cell_type": "code",
      "source": [
        "#7.\n",
        "x = np.arange(0.5, 100.0, 0.5)\n",
        "y = np.exp(x)\n",
        "plt.plot(x, y, label='y=e^x')\n",
        "plt.legend()\n",
        "plt.show()"
      ],
      "metadata": {
        "trusted": true,
        "colab": {
          "base_uri": "https://localhost:8080/",
          "height": 276
        },
        "id": "Tat6scfKC1NJ",
        "outputId": "d6f4307b-0a38-46d4-a341-100d5580f51b"
      },
      "execution_count": 74,
      "outputs": [
        {
          "output_type": "display_data",
          "data": {
            "text/plain": [
              "<Figure size 432x288 with 1 Axes>"
            ],
            "image/png": "[encoded data removed]"
          },
          "metadata": {
            "needs_background": "light"
          }
        }
      ]
    },
    {
      "cell_type": "markdown",
      "source": [
        "# **Q10.**"
      ],
      "metadata": {
        "id": "Ni2TwLH1C1NJ"
      }
    },
    {
      "cell_type": "code",
      "source": [
        "import numpy as np\n",
        "# Using random.uniform to generate the matrix of 20x5 of random numbers\n",
        "#in the range of 1 and 2\n",
        "matrix = np.random.uniform(1, 2, size=(20, 5))\n",
        "print(matrix)\n"
      ],
      "metadata": {
        "trusted": true,
        "colab": {
          "base_uri": "https://localhost:8080/"
        },
        "id": "QhiJzRLNC1NJ",
        "outputId": "57652da9-5dd5-44e8-bf80-5b0e19f87060"
      },
      "execution_count": 75,
      "outputs": [
        {
          "output_type": "stream",
          "name": "stdout",
          "text": [
            "[[1.26355555 1.24682262 1.44057298 1.59387855 1.67180846]\n",
            " [1.70517444 1.68528952 1.77233143 1.19144977 1.01000504]\n",
            " [1.90532242 1.36394186 1.55222645 1.87149029 1.50508608]\n",
            " [1.67616273 1.79424282 1.91117624 1.3639433  1.99889888]\n",
            " [1.01811684 1.71460032 1.80130818 1.95205528 1.60730721]\n",
            " [1.41976927 1.47158217 1.59183622 1.88256951 1.28341003]\n",
            " [1.55292891 1.18881563 1.5159525  1.94498955 1.99424189]\n",
            " [1.4676084  1.95059468 1.87004874 1.59945645 1.93610277]\n",
            " [1.10402571 1.50865847 1.74250645 1.44902122 1.00609001]\n",
            " [1.13162909 1.22673432 1.58532336 1.01038238 1.86349021]\n",
            " [1.6397086  1.39720119 1.83411386 1.13397764 1.01955499]\n",
            " [1.32400552 1.65995083 1.69012795 1.0275566  1.94979781]\n",
            " [1.02303944 1.00298457 1.33896292 1.29567805 1.46927974]\n",
            " [1.43783172 1.71401561 1.83190149 1.4863784  1.88503247]\n",
            " [1.85403102 1.33219688 1.55519031 1.57923066 1.96664739]\n",
            " [1.67759887 1.85974369 1.88507451 1.44453733 1.07294701]\n",
            " [1.19170538 1.83574634 1.7574241  1.0505326  1.40540185]\n",
            " [1.87823182 1.14444199 1.47633474 1.4443309  1.53508476]\n",
            " [1.17707191 1.99186868 1.85548481 1.54212694 1.21557714]\n",
            " [1.54513469 1.89515039 1.78152794 1.34571047 1.1878411 ]]\n"
          ]
        }
      ]
    },
    {
      "cell_type": "code",
      "source": [
        "import pandas as pd \n",
        "\n",
        "df = pd.DataFrame(matrix, columns=[\"a\", \"b\", \"c\", \"d\", \"e\"])\n",
        "print(df)\n"
      ],
      "metadata": {
        "trusted": true,
        "colab": {
          "base_uri": "https://localhost:8080/"
        },
        "id": "xN3yxSAeC1NJ",
        "outputId": "292fc866-53ad-46cb-c233-e5e0feb88c3e"
      },
      "execution_count": 76,
      "outputs": [
        {
          "output_type": "stream",
          "name": "stdout",
          "text": [
            "           a         b         c         d         e\n",
            "0   1.263556  1.246823  1.440573  1.593879  1.671808\n",
            "1   1.705174  1.685290  1.772331  1.191450  1.010005\n",
            "2   1.905322  1.363942  1.552226  1.871490  1.505086\n",
            "3   1.676163  1.794243  1.911176  1.363943  1.998899\n",
            "4   1.018117  1.714600  1.801308  1.952055  1.607307\n",
            "5   1.419769  1.471582  1.591836  1.882570  1.283410\n",
            "6   1.552929  1.188816  1.515952  1.944990  1.994242\n",
            "7   1.467608  1.950595  1.870049  1.599456  1.936103\n",
            "8   1.104026  1.508658  1.742506  1.449021  1.006090\n",
            "9   1.131629  1.226734  1.585323  1.010382  1.863490\n",
            "10  1.639709  1.397201  1.834114  1.133978  1.019555\n",
            "11  1.324006  1.659951  1.690128  1.027557  1.949798\n",
            "12  1.023039  1.002985  1.338963  1.295678  1.469280\n",
            "13  1.437832  1.714016  1.831901  1.486378  1.885032\n",
            "14  1.854031  1.332197  1.555190  1.579231  1.966647\n",
            "15  1.677599  1.859744  1.885075  1.444537  1.072947\n",
            "16  1.191705  1.835746  1.757424  1.050533  1.405402\n",
            "17  1.878232  1.144442  1.476335  1.444331  1.535085\n",
            "18  1.177072  1.991869  1.855485  1.542127  1.215577\n",
            "19  1.545135  1.895150  1.781528  1.345710  1.187841\n"
          ]
        }
      ]
    },
    {
      "cell_type": "code",
      "source": [
        "# Compute the standard deviation usinf std\n",
        "stdeviations = df.std(axis=0) #axis=0, represents that we want to find the std deviation of the columns\n",
        "print(stdeviations)\n",
        "\n",
        "# Find the column with the highest standard deviation using 'idxmax()'\n",
        "max_std = stdeviations.idxmax()\n",
        "print(\"Column with highest standard deviation:\", (max_std))\n"
      ],
      "metadata": {
        "trusted": true,
        "colab": {
          "base_uri": "https://localhost:8080/"
        },
        "id": "6hGBLOS-C1NK",
        "outputId": "28bb76e0-5623-4403-9a0c-1529467999e7"
      },
      "execution_count": 77,
      "outputs": [
        {
          "output_type": "stream",
          "name": "stdout",
          "text": [
            "a    0.286607\n",
            "b    0.299149\n",
            "c    0.168844\n",
            "d    0.296415\n",
            "e    0.365734\n",
            "dtype: float64\n",
            "Column with highest standard deviation: e\n"
          ]
        }
      ]
    },
    {
      "cell_type": "code",
      "source": [
        "# Compute the mean of each row using mean function in pandas\n",
        "means = df.mean(axis=1) #axis=1 represents the rows in the dataframe\n",
        "print(means)\n",
        "\n",
        "# Find the row with the lowest mean usinf the function idxmin()\n",
        "min_mean_row = means.idxmin()\n",
        "print(\"Row with lowest mean:\", (min_mean_row))\n"
      ],
      "metadata": {
        "trusted": true,
        "colab": {
          "base_uri": "https://localhost:8080/"
        },
        "id": "ouZSdguTC1NK",
        "outputId": "c527ecaa-2521-40cc-8d62-6792fe5d52c3"
      },
      "execution_count": 78,
      "outputs": [
        {
          "output_type": "stream",
          "name": "stdout",
          "text": [
            "0     1.443328\n",
            "1     1.472850\n",
            "2     1.639613\n",
            "3     1.748885\n",
            "4     1.618678\n",
            "5     1.529833\n",
            "6     1.639386\n",
            "7     1.764762\n",
            "8     1.362060\n",
            "9     1.363512\n",
            "10    1.404911\n",
            "11    1.530288\n",
            "12    1.225989\n",
            "13    1.671032\n",
            "14    1.657459\n",
            "15    1.587980\n",
            "16    1.448162\n",
            "17    1.495685\n",
            "18    1.556426\n",
            "19    1.551073\n",
            "dtype: float64\n",
            "Row with lowest mean: 12\n"
          ]
        }
      ]
    },
    {
      "cell_type": "markdown",
      "source": [
        "# **Q11.**"
      ],
      "metadata": {
        "id": "O9NiuapYC1NK"
      }
    },
    {
      "cell_type": "code",
      "source": [
        "# Adding a new column \"f\" which is the sum of columns \"a\", \"b\", \"c\", \"d\", and \"e\"\n",
        "df[\"f\"] = df[[\"a\", \"b\", \"c\", \"d\", \"e\"]].sum(axis=1)\n",
        "print(df)"
      ],
      "metadata": {
        "trusted": true,
        "colab": {
          "base_uri": "https://localhost:8080/"
        },
        "id": "mVqtEvUXC1NK",
        "outputId": "a3d45eb0-1d68-448c-815d-53edaa296425"
      },
      "execution_count": 79,
      "outputs": [
        {
          "output_type": "stream",
          "name": "stdout",
          "text": [
            "           a         b         c         d         e         f\n",
            "0   1.263556  1.246823  1.440573  1.593879  1.671808  7.216638\n",
            "1   1.705174  1.685290  1.772331  1.191450  1.010005  7.364250\n",
            "2   1.905322  1.363942  1.552226  1.871490  1.505086  8.198067\n",
            "3   1.676163  1.794243  1.911176  1.363943  1.998899  8.744424\n",
            "4   1.018117  1.714600  1.801308  1.952055  1.607307  8.093388\n",
            "5   1.419769  1.471582  1.591836  1.882570  1.283410  7.649167\n",
            "6   1.552929  1.188816  1.515952  1.944990  1.994242  8.196928\n",
            "7   1.467608  1.950595  1.870049  1.599456  1.936103  8.823811\n",
            "8   1.104026  1.508658  1.742506  1.449021  1.006090  6.810302\n",
            "9   1.131629  1.226734  1.585323  1.010382  1.863490  6.817559\n",
            "10  1.639709  1.397201  1.834114  1.133978  1.019555  7.024556\n",
            "11  1.324006  1.659951  1.690128  1.027557  1.949798  7.651439\n",
            "12  1.023039  1.002985  1.338963  1.295678  1.469280  6.129945\n",
            "13  1.437832  1.714016  1.831901  1.486378  1.885032  8.355160\n",
            "14  1.854031  1.332197  1.555190  1.579231  1.966647  8.287296\n",
            "15  1.677599  1.859744  1.885075  1.444537  1.072947  7.939901\n",
            "16  1.191705  1.835746  1.757424  1.050533  1.405402  7.240810\n",
            "17  1.878232  1.144442  1.476335  1.444331  1.535085  7.478424\n",
            "18  1.177072  1.991869  1.855485  1.542127  1.215577  7.782129\n",
            "19  1.545135  1.895150  1.781528  1.345710  1.187841  7.755365\n"
          ]
        }
      ]
    },
    {
      "cell_type": "code",
      "source": [
        "# Creating a column \"g\" with values \"LT8\" or \"GT8\" based on the values in column \"f\"\n",
        "df[\"g\"] = np.where(df[\"f\"] < 8, \"LT8\", \"GT8\")\n",
        "print(df)\n"
      ],
      "metadata": {
        "trusted": true,
        "colab": {
          "base_uri": "https://localhost:8080/"
        },
        "id": "48RZp0waC1NK",
        "outputId": "564dc7d6-ca82-488a-95b0-028ece41b81c"
      },
      "execution_count": 80,
      "outputs": [
        {
          "output_type": "stream",
          "name": "stdout",
          "text": [
            "           a         b         c         d         e         f    g\n",
            "0   1.263556  1.246823  1.440573  1.593879  1.671808  7.216638  LT8\n",
            "1   1.705174  1.685290  1.772331  1.191450  1.010005  7.364250  LT8\n",
            "2   1.905322  1.363942  1.552226  1.871490  1.505086  8.198067  GT8\n",
            "3   1.676163  1.794243  1.911176  1.363943  1.998899  8.744424  GT8\n",
            "4   1.018117  1.714600  1.801308  1.952055  1.607307  8.093388  GT8\n",
            "5   1.419769  1.471582  1.591836  1.882570  1.283410  7.649167  LT8\n",
            "6   1.552929  1.188816  1.515952  1.944990  1.994242  8.196928  GT8\n",
            "7   1.467608  1.950595  1.870049  1.599456  1.936103  8.823811  GT8\n",
            "8   1.104026  1.508658  1.742506  1.449021  1.006090  6.810302  LT8\n",
            "9   1.131629  1.226734  1.585323  1.010382  1.863490  6.817559  LT8\n",
            "10  1.639709  1.397201  1.834114  1.133978  1.019555  7.024556  LT8\n",
            "11  1.324006  1.659951  1.690128  1.027557  1.949798  7.651439  LT8\n",
            "12  1.023039  1.002985  1.338963  1.295678  1.469280  6.129945  LT8\n",
            "13  1.437832  1.714016  1.831901  1.486378  1.885032  8.355160  GT8\n",
            "14  1.854031  1.332197  1.555190  1.579231  1.966647  8.287296  GT8\n",
            "15  1.677599  1.859744  1.885075  1.444537  1.072947  7.939901  LT8\n",
            "16  1.191705  1.835746  1.757424  1.050533  1.405402  7.240810  LT8\n",
            "17  1.878232  1.144442  1.476335  1.444331  1.535085  7.478424  LT8\n",
            "18  1.177072  1.991869  1.855485  1.542127  1.215577  7.782129  LT8\n",
            "19  1.545135  1.895150  1.781528  1.345710  1.187841  7.755365  LT8\n"
          ]
        }
      ]
    },
    {
      "cell_type": "code",
      "source": [
        "# Count the number of rows where column \"g\" is \"LT8\"\n",
        "lt8_count = df.query(\"g == 'LT8'\").shape[0] # .shape returns the size of the row \n",
        "print(\"Number of rows where column 'g' is 'LT8':\", (lt8_count))\n"
      ],
      "metadata": {
        "trusted": true,
        "colab": {
          "base_uri": "https://localhost:8080/"
        },
        "id": "ijnMrD79C1NL",
        "outputId": "a58d7532-604e-443b-a402-0a0b9c6af137"
      },
      "execution_count": 81,
      "outputs": [
        {
          "output_type": "stream",
          "name": "stdout",
          "text": [
            "Number of rows where column 'g' is 'LT8': 13\n"
          ]
        }
      ]
    },
    {
      "cell_type": "code",
      "source": [
        "# Finding std deviation of column \"f\" for rows where column \"g\" is \"LT8\"\n",
        "lt8_std = df.query(\"g == 'LT8'\")['f'].std()\n",
        "print(\"Standard deviation of column 'f' for rows where column 'g' is 'LT8':\", (lt8_std))\n",
        "\n",
        "# The std deviation of column \"f\" for rows where column \"g\" is \"GT8\"\n",
        "gt8_std = df.query(\"g == 'GT8'\")['f'].std()\n",
        "print(\"Standard deviation of column 'f' for rows where column 'g' is 'GT8':\", (gt8_std))\n"
      ],
      "metadata": {
        "trusted": true,
        "colab": {
          "base_uri": "https://localhost:8080/"
        },
        "id": "BtXoMBXnC1NL",
        "outputId": "b03776d1-bac6-494f-8769-c91d01673dc5"
      },
      "execution_count": 82,
      "outputs": [
        {
          "output_type": "stream",
          "name": "stdout",
          "text": [
            "Standard deviation of column 'f' for rows where column 'g' is 'LT8': 0.5048476716303651\n",
            "Standard deviation of column 'f' for rows where column 'g' is 'GT8': 0.2850518347203997\n"
          ]
        }
      ]
    },
    {
      "cell_type": "markdown",
      "source": [
        "# **Q12**."
      ],
      "metadata": {
        "id": "MmH0cnWMC1NL"
      }
    },
    {
      "cell_type": "markdown",
      "source": [
        "Broadcasting in NumPy allows us to perform operations on arrays without any constrain of array size and without creating any loops.\n",
        "Here generally, the smaller array is \"broadcasted\" to the larger array, so as to have a compatible size in result. Thus, it facilitates\n",
        "performing arithmetic operations among arrays with different shapes and sizes."
      ],
      "metadata": {
        "id": "dYjRwyKMC1NL"
      }
    },
    {
      "cell_type": "code",
      "source": [
        "import numpy as np\n",
        "\n",
        "x = np.array([1, 2, 3])\n",
        "print(x)\n",
        "\n",
        "y = np.array([[5, 6, 7], [8, 9, 10]])\n",
        "print(y)\n",
        "\n",
        "result = x + y\n",
        "print(result)\n",
        "\n",
        "\n"
      ],
      "metadata": {
        "trusted": true,
        "colab": {
          "base_uri": "https://localhost:8080/"
        },
        "id": "g3jnZyBvC1NL",
        "outputId": "a373551e-390f-41ca-a2e6-c0e8afaf96df"
      },
      "execution_count": 83,
      "outputs": [
        {
          "output_type": "stream",
          "name": "stdout",
          "text": [
            "[1 2 3]\n",
            "[[ 5  6  7]\n",
            " [ 8  9 10]]\n",
            "[[ 6  8 10]\n",
            " [ 9 11 13]]\n"
          ]
        }
      ]
    },
    {
      "cell_type": "markdown",
      "source": [
        "# **Q13.**"
      ],
      "metadata": {
        "id": "-y8nhtUKHyVm"
      }
    },
    {
      "cell_type": "code",
      "source": [
        "def argmin(arr):\n",
        "    # Find the index of the minimum element\n",
        "    index = 0\n",
        "    min_value = arr[0]\n",
        "    for i, value in enumerate(arr):\n",
        "        if value < min_value:\n",
        "            index = i\n",
        "            min_value = value\n",
        "    return index\n",
        "import numpy as np\n",
        "\n",
        "# Create a numpy array\n",
        "arr = np.array([4, 3, 2, 1, 5])\n",
        "\n",
        "# Find the argmin of the array using the function\n",
        "argmin = argmin(arr)\n",
        "print(argmin) \n",
        "\n",
        "# Verify the result using np.argmin\n",
        "print(np.argmin(arr))\n"
      ],
      "metadata": {
        "trusted": true,
        "colab": {
          "base_uri": "https://localhost:8080/"
        },
        "id": "trhqmgiFC1NM",
        "outputId": "78042a8c-9b10-4e47-837b-b922f5f829c1"
      },
      "execution_count": 84,
      "outputs": [
        {
          "output_type": "stream",
          "name": "stdout",
          "text": [
            "3\n",
            "3\n"
          ]
        }
      ]
    }
  ]
}